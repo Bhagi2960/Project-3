{
 "cells": [
  {
   "cell_type": "code",
   "execution_count": 9,
   "metadata": {},
   "outputs": [],
   "source": [
    "import pandas as pd\n",
    "from dbfread import DBF\n",
    "\n",
    "# Load the DBF file\n",
    "dbf = DBF(r'C:\\Users\\npwol\\Downloads\\ca_counties\\CA_Counties.dbf')\n",
    "\n",
    "# Convert the DBF to a pandas DataFrame\n",
    "df = pd.DataFrame(iter(dbf))\n",
    "\n",
    "# Save the DataFrame to a CSV file\n",
    "df.to_csv('output.csv', index=False)\n",
    "\n"
   ]
  },
  {
   "cell_type": "code",
   "execution_count": 8,
   "metadata": {},
   "outputs": [
    {
     "name": "stdout",
     "output_type": "stream",
     "text": [
      "False\n"
     ]
    }
   ],
   "source": [
    "import pkg_resources\n",
    "installed_packages = [pkg.key for pkg in pkg_resources.working_set]\n",
    "print('dbfread' in installed_packages)\n"
   ]
  },
  {
   "cell_type": "code",
   "execution_count": 7,
   "metadata": {},
   "outputs": [
    {
     "name": "stdout",
     "output_type": "stream",
     "text": [
      "c:\\Users\\npwol\\anaconda3\\envs\\dev\\python.exe\n"
     ]
    }
   ],
   "source": [
    "import sys\n",
    "print(sys.executable)\n"
   ]
  },
  {
   "cell_type": "code",
   "execution_count": 24,
   "metadata": {},
   "outputs": [],
   "source": [
    "import pandas as pd\n",
    "from dbfread import DBF\n",
    "\n",
    "# Load the DBF file\n",
    "dbf = DBF(r'C:\\Users\\npwol\\Downloads\\ca_counties\\CA_Counties.dbf')\n",
    "\n",
    "# Convert the DBF to a pandas DataFrame\n",
    "df = pd.DataFrame(iter(dbf))\n",
    "\n",
    "# Try saving to a different location (e.g., Desktop)\n",
    "df.to_csv(r'County.csv', index=False)\n"
   ]
  },
  {
   "cell_type": "code",
   "execution_count": 25,
   "metadata": {},
   "outputs": [
    {
     "name": "stdout",
     "output_type": "stream",
     "text": [
      "False\n"
     ]
    }
   ],
   "source": [
    "import pkg_resources\n",
    "installed_packages = [pkg.key for pkg in pkg_resources.working_set]\n",
    "print('dbfread' in installed_packages)"
   ]
  },
  {
   "cell_type": "code",
   "execution_count": 26,
   "metadata": {},
   "outputs": [
    {
     "name": "stdout",
     "output_type": "stream",
     "text": [
      "c:\\Users\\npwol\\anaconda3\\envs\\dev\\python.exe\n"
     ]
    }
   ],
   "source": [
    "import sys\n",
    "print(sys.executable)"
   ]
  }
 ],
 "metadata": {
  "kernelspec": {
   "display_name": "dev",
   "language": "python",
   "name": "python3"
  },
  "language_info": {
   "codemirror_mode": {
    "name": "ipython",
    "version": 3
   },
   "file_extension": ".py",
   "mimetype": "text/x-python",
   "name": "python",
   "nbconvert_exporter": "python",
   "pygments_lexer": "ipython3",
   "version": "3.10.14"
  }
 },
 "nbformat": 4,
 "nbformat_minor": 2
}
